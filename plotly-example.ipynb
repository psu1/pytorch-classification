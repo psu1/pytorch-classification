{
 "cells": [
  {
   "cell_type": "code",
   "execution_count": 1,
   "metadata": {},
   "outputs": [],
   "source": [
    "import matplotlib.pyplot as plt\n",
    "import numpy as np"
   ]
  },
  {
   "cell_type": "code",
   "execution_count": 24,
   "metadata": {},
   "outputs": [],
   "source": [
    "import plotly\n",
    "plotly.tools.set_credentials_file(username='psu1', api_key='bzP2u6tnDneFa0t0GDnO')\n",
    "import plotly.plotly as py\n",
    "import plotly.graph_objs as go\n"
   ]
  },
  {
   "cell_type": "code",
   "execution_count": 18,
   "metadata": {},
   "outputs": [
    {
     "name": "stdout",
     "output_type": "stream",
     "text": [
      "<type 'list'>\n"
     ]
    }
   ],
   "source": [
    "y = ['14.870000', '27.980000', '36.770000', '41.680000', '45.520000', '42.090000', '48.169998', '52.579998', '53.419998', '52.849998', '56.389999', '58.019997', '57.039997', '58.169998', '58.599998', '56.789997', '59.910000', '60.719997', '60.039997', '60.949997', '59.730000', '62.629997', '58.849998', '62.349998', '62.820000', '59.090000', '61.340000', '62.279999', '60.449997', '63.299999', '62.160000', '60.969997', '62.389999', '62.209999', '63.689999', '64.559998', '62.250000', '64.970001', '64.479996', '63.399998', '65.250000', '63.320000', '62.549999', '62.369999', '64.389999', '64.470001', '64.229996', '63.809998', '62.609997', '63.519997', '63.000000', '62.889999', '64.909996', '64.669998', '65.299995', '64.510002', '64.689995', '64.570000', '65.900002', '65.239998', '64.379997', '66.309998', '65.659996', '65.809998', '66.169998', '62.500000', '64.659996', '63.379997', '65.159996', '65.599998', '66.580002', '65.419998', '62.829998', '65.599998', '65.080002', '66.290001', '67.379997', '65.989998', '65.860001', '66.459999', '65.430000', '66.529999', '65.029999', '64.790001', '63.759998', '65.650002', '65.959999', '65.250000', '63.000000', '65.830002', '66.540001', '64.760002', '64.650002', '64.669998', '64.799995', '64.909996', '65.119995', '66.930000', '65.029999', '65.650002', '65.680000', '65.049995', '65.650002', '66.489998', '64.209999', '66.320000', '66.110001', '65.040001', '64.459999', '66.580002', '67.489998', '66.409996', '67.330002', '65.750000', '65.860001', '65.239998', '65.839996', '65.089996', '65.549995', '65.610001', '64.750000', '64.019997', '65.919998', '65.889999', '66.629997', '65.199997', '68.239998', '66.459999', '66.339996', '66.339996', '65.379997', '68.229996', '66.809998', '64.500000', '64.479996', '64.150002', '66.040001', '66.599998', '64.459999', '65.529999', '64.860001', '65.479996', '63.980000', '66.939995', '68.040001', '68.189995', '64.110001', '66.779999', '65.659996', '65.709999', '76.139999', '76.669998', '76.689995', '77.009995', '76.739998', '77.000000', '77.049995', '77.119995', '77.259995', '77.269997', '76.909996', '76.570000', '76.689995', '76.699997']\n",
    "print type(y)"
   ]
  },
  {
   "cell_type": "code",
   "execution_count": 19,
   "metadata": {},
   "outputs": [
    {
     "name": "stdout",
     "output_type": "stream",
     "text": [
      "164\n"
     ]
    }
   ],
   "source": [
    "print len(y)"
   ]
  },
  {
   "cell_type": "code",
   "execution_count": 20,
   "metadata": {},
   "outputs": [
    {
     "name": "stdout",
     "output_type": "stream",
     "text": [
      "<type 'numpy.ndarray'> (164,)\n"
     ]
    }
   ],
   "source": [
    "y = np.array(y)\n",
    "print type(y), y.shape"
   ]
  },
  {
   "cell_type": "code",
   "execution_count": 43,
   "metadata": {},
   "outputs": [
    {
     "name": "stdout",
     "output_type": "stream",
     "text": [
      "56.389999\n"
     ]
    }
   ],
   "source": [
    "print y[10]"
   ]
  },
  {
   "cell_type": "code",
   "execution_count": 25,
   "metadata": {},
   "outputs": [],
   "source": [
    "# Create a trace\n",
    "x = np.arange(164)\n",
    "trace = go.Scatter(\n",
    "    x = x,\n",
    "    y = y\n",
    ")"
   ]
  },
  {
   "cell_type": "code",
   "execution_count": 26,
   "metadata": {},
   "outputs": [
    {
     "name": "stdout",
     "output_type": "stream",
     "text": [
      "High five! You successfully sent some data to your account on plotly. View your plot in your browser at https://plot.ly/~psu1/0 or inside your plot.ly account where it is named 'basic-line'\n"
     ]
    },
    {
     "data": {
      "text/html": [
       "<iframe id=\"igraph\" scrolling=\"no\" style=\"border:none;\" seamless=\"seamless\" src=\"https://plot.ly/~psu1/0.embed\" height=\"525px\" width=\"100%\"></iframe>"
      ],
      "text/plain": [
       "<plotly.tools.PlotlyDisplay object>"
      ]
     },
     "execution_count": 26,
     "metadata": {},
     "output_type": "execute_result"
    }
   ],
   "source": [
    "data = [trace]\n",
    "\n",
    "py.iplot(data, filename='basic-line')"
   ]
  },
  {
   "cell_type": "code",
   "execution_count": 72,
   "metadata": {},
   "outputs": [
    {
     "name": "stdout",
     "output_type": "stream",
     "text": [
      "(164,)\n"
     ]
    }
   ],
   "source": [
    "print y.shape"
   ]
  },
  {
   "cell_type": "code",
   "execution_count": 44,
   "metadata": {},
   "outputs": [
    {
     "name": "stdout",
     "output_type": "stream",
     "text": [
      "[0 1 2 3 4 5 6 7 8 9]\n"
     ]
    },
    {
     "data": {
      "image/png": "[encoded data removed]",
      "text/plain": [
       "<Figure size 432x288 with 1 Axes>"
      ]
     },
     "metadata": {},
     "output_type": "display_data"
    }
   ],
   "source": [
    "plt.figure()\n",
    "x = np.arange(10)\n",
    "print x\n",
    "plt.plot( y[:10])\n",
    "\n",
    "plt.show()"
   ]
  },
  {
   "cell_type": "code",
   "execution_count": null,
   "metadata": {},
   "outputs": [],
   "source": []
  },
  {
   "cell_type": "code",
   "execution_count": null,
   "metadata": {},
   "outputs": [],
   "source": []
  }
 ],
 "metadata": {
  "kernelspec": {
   "display_name": "Python 2",
   "language": "python",
   "name": "python2"
  },
  "language_info": {
   "codemirror_mode": {
    "name": "ipython",
    "version": 2
   },
   "file_extension": ".py",
   "mimetype": "text/x-python",
   "name": "python",
   "nbconvert_exporter": "python",
   "pygments_lexer": "ipython2",
   "version": "2.7.15"
  }
 },
 "nbformat": 4,
 "nbformat_minor": 2
}
